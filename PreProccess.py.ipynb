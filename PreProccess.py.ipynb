{
 "cells": [
  {
   "cell_type": "code",
   "execution_count": 1,
   "metadata": {},
   "outputs": [
    {
     "name": "stderr",
     "output_type": "stream",
     "text": [
      "/home/fuckme/.local/lib/python3.5/site-packages/h5py/__init__.py:36: FutureWarning: Conversion of the second argument of issubdtype from `float` to `np.floating` is deprecated. In future, it will be treated as `np.float64 == np.dtype(float).type`.\n",
      "  from ._conv import register_converters as _register_converters\n",
      "Using TensorFlow backend.\n"
     ]
    }
   ],
   "source": [
    "import matplotlib.pyplot as plt\n",
    "from keras import Model\n",
    "from keras.layers import Dense\n",
    "from keras_pandas.Automater import Automater\n",
    "from keras import backend as K\n",
    "from  sklearn.utils import resample\n",
    "import functools\n",
    "import pandas\n",
    "import tensorflow as tf\n",
    "import numpy as np\n",
    "from tensorflow.python.saved_model import builder as saved_model_builder\n",
    "from tensorflow.python.saved_model import tag_constants, signature_constants, signature_def_utils_impl"
   ]
  },
  {
   "cell_type": "code",
   "execution_count": 2,
   "metadata": {},
   "outputs": [
    {
     "name": "stdout",
     "output_type": "stream",
     "text": [
      "2596153\n"
     ]
    }
   ],
   "source": [
    "df=pandas.read_csv('Logs/stats.csv')\n",
    "print(len(df))"
   ]
  },
  {
   "cell_type": "code",
   "execution_count": 3,
   "metadata": {},
   "outputs": [],
   "source": [
    "df[\"Opponent_Percent_Change\"] = df[\"Opponent_Percent_Change\"].shift(-1)\n",
    "df[\"AI_Percent_Change\"] = df[\"AI_Percent_Change\"].shift(-1)\n",
    "df.drop(len(df)-1,inplace=True)"
   ]
  },
  {
   "cell_type": "code",
   "execution_count": 4,
   "metadata": {},
   "outputs": [
    {
     "name": "stdout",
     "output_type": "stream",
     "text": [
      "8517 2596152\n"
     ]
    }
   ],
   "source": [
    "df['target'] = df.apply (lambda row: row[\"Opponent_Percent_Change\"]>0,axis=1)\n",
    "print(len(df[(df['target'] > 0)]),len(df))"
   ]
  },
  {
   "cell_type": "code",
   "execution_count": 5,
   "metadata": {},
   "outputs": [],
   "source": [
    "df=df.drop(columns=['AI_Action', 'Opponent_Action', 'Buttons Pressed', 'Notes', 'Frame Process Time'])"
   ]
  },
  {
   "cell_type": "code",
   "execution_count": 6,
   "metadata": {},
   "outputs": [
    {
     "name": "stdout",
     "output_type": "stream",
     "text": [
      "2587635 8517\n"
     ]
    }
   ],
   "source": [
    "df_majority = df[df.target==False]\n",
    "df_minority = df[df.target==True]\n",
    "print(len(df_majority),len(df_minority))"
   ]
  },
  {
   "cell_type": "code",
   "execution_count": 7,
   "metadata": {},
   "outputs": [],
   "source": [
    "df_majority_downsampled = resample(df_majority, \n",
    "                                 replace=False,    # sample without replacement\n",
    "                                 n_samples=10000,     # to match minority class\n",
    "                                 random_state=123) # reproducible results\n",
    "df = pandas.concat([df_majority_downsampled, df_minority]).sample(frac=1)\n",
    "df.reset_index(drop=True,inplace=True)"
   ]
  },
  {
   "cell_type": "code",
   "execution_count": 8,
   "metadata": {},
   "outputs": [],
   "source": [
    "categorical_vars=[\"Opponent_Facing\",\"AI_Facing\",\"target\"]\n",
    "numerical_vars=[\"Frame\",\"Opponent_x\",\"Opponent_y\",\"AI_x\",\"AI_y\",\n",
    "                \"Opponent_Action_Num\",\"AI_Action_Num\",\"AI_Action_Frame\",\n",
    "                \"Opponent_Action_Frame\",\"Opponent_Jumps_Left\", \"AI_Jumps_Left\",\n",
    "                \"Opponent_Stock\",\"AI_Stock\",\n",
    "                \"Opponent_Percent\",\"AI_Percent\",\"Buttons_Pressed_Converted\"]\n",
    "auto=Automater(categorical_vars=categorical_vars,numerical_vars=numerical_vars,response_var=\"target\")"
   ]
  },
  {
   "cell_type": "code",
   "execution_count": 9,
   "metadata": {},
   "outputs": [],
   "source": [
    "def as_keras_metric(method):\n",
    "    @functools.wraps(method)\n",
    "    def wrapper(self, args, **kwargs):\n",
    "        \"\"\" Wrapper for turning tensorflow metrics into keras metrics \"\"\"\n",
    "        value, update_op = method(self, args, **kwargs)\n",
    "        K.get_session().run(tf.local_variables_initializer())\n",
    "        with tf.control_dependencies([update_op]):\n",
    "            value = tf.identity(value)\n",
    "        return value\n",
    "    return wrapper"
   ]
  },
  {
   "cell_type": "code",
   "execution_count": 10,
   "metadata": {},
   "outputs": [
    {
     "name": "stderr",
     "output_type": "stream",
     "text": [
      "/home/fuckme/.local/lib/python3.5/site-packages/sklearn/preprocessing/label.py:95: DataConversionWarning: A column-vector y was passed when a 1d array was expected. Please change the shape of y to (n_samples, ), for example using ravel().\n",
      "  y = column_or_1d(y, warn=True)\n",
      "/home/fuckme/.local/lib/python3.5/site-packages/sklearn/preprocessing/label.py:128: DataConversionWarning: A column-vector y was passed when a 1d array was expected. Please change the shape of y to (n_samples, ), for example using ravel().\n",
      "  y = column_or_1d(y, warn=True)\n",
      "/home/fuckme/.local/lib/python3.5/site-packages/keras_pandas/constants.py:32: FutureWarning: Method .as_matrix will be removed in a future version. Use .values instead.\n",
      "  transformed = input_dataframe[variable].as_matrix()\n",
      "/home/fuckme/.local/lib/python3.5/site-packages/keras_pandas/constants.py:49: FutureWarning: Method .as_matrix will be removed in a future version. Use .values instead.\n",
      "  transformed = input_dataframe[variable].as_matrix()\n"
     ]
    }
   ],
   "source": [
    "X, y = auto.fit_transform(df)"
   ]
  },
  {
   "cell_type": "code",
   "execution_count": 11,
   "metadata": {},
   "outputs": [],
   "source": [
    "sess = tf.Session()\n",
    "K.set_session(sess)\n",
    "K.set_learning_phase(0)  # all new operations will be in test mode from now on\n",
    "model_version = \"2\"\n",
    "seed = 7\n",
    "np.random.seed(seed)"
   ]
  },
  {
   "cell_type": "code",
   "execution_count": 12,
   "metadata": {},
   "outputs": [],
   "source": [
    "# Start model with provided input nub\n",
    "x = auto.input_nub\n",
    "\n",
    "# Fill in your own hidden layers\n",
    "x = Dense(32)(x)\n",
    "x = Dense(8, activation='relu')(x)\n",
    "#x = Dense(32)(x)\n",
    "\n",
    "# End model with provided output nub\n",
    "x = auto.output_nub(x)\n",
    "model = Model(inputs=auto.input_layers, outputs=x)\n"
   ]
  },
  {
   "cell_type": "code",
   "execution_count": 13,
   "metadata": {},
   "outputs": [],
   "source": [
    "precision = as_keras_metric(tf.metrics.precision)\n",
    "recall = as_keras_metric(tf.metrics.recall)\n",
    "model.compile(optimizer='Adam', loss=auto.loss, metrics=['accuracy',precision,recall])"
   ]
  },
  {
   "cell_type": "code",
   "execution_count": 14,
   "metadata": {},
   "outputs": [
    {
     "name": "stdout",
     "output_type": "stream",
     "text": [
      "Train on 14813 samples, validate on 3704 samples\n",
      "Epoch 1/100\n",
      "14813/14813 [==============================] - 1s 62us/step - loss: 0.5382 - acc: 0.7199 - precision: 0.4536 - recall: 0.9978 - val_loss: 0.5000 - val_acc: 0.7581 - val_precision: 0.4603 - val_recall: 1.0000\n",
      "Epoch 2/100\n",
      "14813/14813 [==============================] - 1s 58us/step - loss: 0.4629 - acc: 0.7882 - precision: 0.4598 - recall: 1.0000 - val_loss: 0.4642 - val_acc: 0.7905 - val_precision: 0.4601 - val_recall: 1.0000\n",
      "Epoch 3/100\n",
      "14813/14813 [==============================] - 1s 55us/step - loss: 0.4388 - acc: 0.8097 - precision: 0.4599 - recall: 1.0000 - val_loss: 0.4501 - val_acc: 0.7986 - val_precision: 0.4600 - val_recall: 1.0000\n",
      "Epoch 4/100\n",
      "14813/14813 [==============================] - 1s 59us/step - loss: 0.4249 - acc: 0.8147 - precision: 0.4598 - recall: 1.0000 - val_loss: 0.4352 - val_acc: 0.8121 - val_precision: 0.4600 - val_recall: 1.0000\n",
      "Epoch 5/100\n",
      "14813/14813 [==============================] - 1s 56us/step - loss: 0.4185 - acc: 0.8216 - precision: 0.4600 - recall: 1.0000 - val_loss: 0.4264 - val_acc: 0.8132 - val_precision: 0.4600 - val_recall: 1.0000\n",
      "Epoch 6/100\n",
      "14813/14813 [==============================] - 1s 61us/step - loss: 0.4133 - acc: 0.8225 - precision: 0.4599 - recall: 1.0000 - val_loss: 0.4227 - val_acc: 0.8118 - val_precision: 0.4600 - val_recall: 1.0000\n",
      "Epoch 7/100\n",
      "14813/14813 [==============================] - 1s 58us/step - loss: 0.4099 - acc: 0.8242 - precision: 0.4602 - recall: 1.0000 - val_loss: 0.4180 - val_acc: 0.8164 - val_precision: 0.4600 - val_recall: 1.0000\n",
      "Epoch 8/100\n",
      "14813/14813 [==============================] - 1s 55us/step - loss: 0.4078 - acc: 0.8258 - precision: 0.4598 - recall: 1.0000 - val_loss: 0.4124 - val_acc: 0.8140 - val_precision: 0.4600 - val_recall: 1.0000\n",
      "Epoch 9/100\n",
      "14813/14813 [==============================] - 1s 56us/step - loss: 0.4064 - acc: 0.8273 - precision: 0.4598 - recall: 1.0000 - val_loss: 0.4150 - val_acc: 0.8170 - val_precision: 0.4600 - val_recall: 1.0000\n",
      "Epoch 10/100\n",
      "14813/14813 [==============================] - 1s 56us/step - loss: 0.4050 - acc: 0.8247 - precision: 0.4601 - recall: 1.0000 - val_loss: 0.4135 - val_acc: 0.8151 - val_precision: 0.4600 - val_recall: 1.0000\n",
      "Epoch 11/100\n",
      "14813/14813 [==============================] - 1s 56us/step - loss: 0.4029 - acc: 0.8288 - precision: 0.4598 - recall: 1.0000 - val_loss: 0.4145 - val_acc: 0.8180 - val_precision: 0.4600 - val_recall: 1.0000\n",
      "Epoch 12/100\n",
      "14813/14813 [==============================] - 1s 57us/step - loss: 0.4029 - acc: 0.8277 - precision: 0.4599 - recall: 1.0000 - val_loss: 0.4104 - val_acc: 0.8164 - val_precision: 0.4600 - val_recall: 1.0000\n",
      "Epoch 13/100\n",
      "14813/14813 [==============================] - 1s 57us/step - loss: 0.4008 - acc: 0.8277 - precision: 0.4600 - recall: 1.0000 - val_loss: 0.4067 - val_acc: 0.8180 - val_precision: 0.4600 - val_recall: 1.0000\n",
      "Epoch 14/100\n",
      "14813/14813 [==============================] - 1s 55us/step - loss: 0.3991 - acc: 0.8279 - precision: 0.4599 - recall: 1.0000 - val_loss: 0.4129 - val_acc: 0.8178 - val_precision: 0.4600 - val_recall: 1.0000\n",
      "Epoch 15/100\n",
      "14813/14813 [==============================] - 1s 55us/step - loss: 0.3980 - acc: 0.8291 - precision: 0.4600 - recall: 1.0000 - val_loss: 0.4088 - val_acc: 0.8213 - val_precision: 0.4600 - val_recall: 1.0000\n",
      "Epoch 16/100\n",
      "14813/14813 [==============================] - 1s 57us/step - loss: 0.3962 - acc: 0.8282 - precision: 0.4600 - recall: 1.0000 - val_loss: 0.4063 - val_acc: 0.8256 - val_precision: 0.4600 - val_recall: 1.0000\n",
      "Epoch 17/100\n",
      "14813/14813 [==============================] - 1s 56us/step - loss: 0.3943 - acc: 0.8308 - precision: 0.4600 - recall: 1.0000 - val_loss: 0.4046 - val_acc: 0.8226 - val_precision: 0.4600 - val_recall: 1.0000\n",
      "Epoch 18/100\n",
      "14813/14813 [==============================] - 1s 55us/step - loss: 0.3939 - acc: 0.8308 - precision: 0.4599 - recall: 1.0000 - val_loss: 0.4021 - val_acc: 0.8188 - val_precision: 0.4600 - val_recall: 1.0000\n",
      "Epoch 19/100\n",
      "14813/14813 [==============================] - 1s 58us/step - loss: 0.3924 - acc: 0.8312 - precision: 0.4600 - recall: 1.0000 - val_loss: 0.3994 - val_acc: 0.8224 - val_precision: 0.4600 - val_recall: 1.0000\n",
      "Epoch 20/100\n",
      "14813/14813 [==============================] - 1s 54us/step - loss: 0.3902 - acc: 0.8324 - precision: 0.4600 - recall: 1.0000 - val_loss: 0.4042 - val_acc: 0.8210 - val_precision: 0.4600 - val_recall: 1.0000\n",
      "Epoch 21/100\n",
      "14813/14813 [==============================] - 1s 53us/step - loss: 0.3886 - acc: 0.8312 - precision: 0.4600 - recall: 1.0000 - val_loss: 0.4001 - val_acc: 0.8278 - val_precision: 0.4600 - val_recall: 1.0000\n",
      "Epoch 22/100\n",
      "14813/14813 [==============================] - 1s 55us/step - loss: 0.3872 - acc: 0.8323 - precision: 0.4600 - recall: 1.0000 - val_loss: 0.3949 - val_acc: 0.8261 - val_precision: 0.4600 - val_recall: 1.0000\n",
      "Epoch 23/100\n",
      "14813/14813 [==============================] - 1s 55us/step - loss: 0.3841 - acc: 0.8353 - precision: 0.4599 - recall: 1.0000 - val_loss: 0.3985 - val_acc: 0.8202 - val_precision: 0.4600 - val_recall: 1.0000\n",
      "Epoch 24/100\n",
      "14813/14813 [==============================] - 1s 56us/step - loss: 0.3801 - acc: 0.8341 - precision: 0.4599 - recall: 1.0000 - val_loss: 0.3931 - val_acc: 0.8253 - val_precision: 0.4600 - val_recall: 1.0000\n",
      "Epoch 25/100\n",
      "14813/14813 [==============================] - 1s 56us/step - loss: 0.3780 - acc: 0.8374 - precision: 0.4600 - recall: 1.0000 - val_loss: 0.3908 - val_acc: 0.8296 - val_precision: 0.4600 - val_recall: 1.0000\n",
      "Epoch 26/100\n",
      "14813/14813 [==============================] - 1s 57us/step - loss: 0.3730 - acc: 0.8376 - precision: 0.4600 - recall: 1.0000 - val_loss: 0.3884 - val_acc: 0.8321 - val_precision: 0.4600 - val_recall: 1.0000\n",
      "Epoch 27/100\n",
      "14813/14813 [==============================] - 1s 59us/step - loss: 0.3655 - acc: 0.8443 - precision: 0.4600 - recall: 1.0000 - val_loss: 0.3670 - val_acc: 0.8445 - val_precision: 0.4600 - val_recall: 1.0000\n",
      "Epoch 28/100\n",
      "14813/14813 [==============================] - 1s 56us/step - loss: 0.3537 - acc: 0.8528 - precision: 0.4599 - recall: 1.0000 - val_loss: 0.3583 - val_acc: 0.8445 - val_precision: 0.4600 - val_recall: 1.0000\n",
      "Epoch 29/100\n",
      "14813/14813 [==============================] - 1s 54us/step - loss: 0.3461 - acc: 0.8579 - precision: 0.4599 - recall: 1.0000 - val_loss: 0.3512 - val_acc: 0.8575 - val_precision: 0.4600 - val_recall: 1.0000\n",
      "Epoch 30/100\n",
      "14813/14813 [==============================] - 1s 54us/step - loss: 0.3395 - acc: 0.8618 - precision: 0.4600 - recall: 1.0000 - val_loss: 0.3490 - val_acc: 0.8564 - val_precision: 0.4600 - val_recall: 1.0000\n",
      "Epoch 31/100\n",
      "14813/14813 [==============================] - 1s 56us/step - loss: 0.3366 - acc: 0.8651 - precision: 0.4600 - recall: 1.0000 - val_loss: 0.3433 - val_acc: 0.8664 - val_precision: 0.4600 - val_recall: 1.0000\n",
      "Epoch 32/100\n",
      "14813/14813 [==============================] - 1s 53us/step - loss: 0.3336 - acc: 0.8678 - precision: 0.4600 - recall: 1.0000 - val_loss: 0.3384 - val_acc: 0.8607 - val_precision: 0.4600 - val_recall: 1.0000\n",
      "Epoch 33/100\n",
      "14813/14813 [==============================] - 1s 55us/step - loss: 0.3309 - acc: 0.8682 - precision: 0.4600 - recall: 1.0000 - val_loss: 0.3413 - val_acc: 0.8642 - val_precision: 0.4600 - val_recall: 1.0000\n",
      "Epoch 34/100\n",
      "14813/14813 [==============================] - 1s 56us/step - loss: 0.3283 - acc: 0.8700 - precision: 0.4600 - recall: 1.0000 - val_loss: 0.3356 - val_acc: 0.8650 - val_precision: 0.4600 - val_recall: 1.0000\n",
      "Epoch 35/100\n",
      "14813/14813 [==============================] - 1s 55us/step - loss: 0.3276 - acc: 0.8704 - precision: 0.4599 - recall: 1.0000 - val_loss: 0.3319 - val_acc: 0.8637 - val_precision: 0.4600 - val_recall: 1.0000\n",
      "Epoch 36/100\n",
      "14813/14813 [==============================] - 1s 53us/step - loss: 0.3243 - acc: 0.8721 - precision: 0.4600 - recall: 1.0000 - val_loss: 0.3302 - val_acc: 0.8674 - val_precision: 0.4600 - val_recall: 1.0000\n",
      "Epoch 37/100\n",
      "14813/14813 [==============================] - 1s 57us/step - loss: 0.3254 - acc: 0.8707 - precision: 0.4600 - recall: 1.0000 - val_loss: 0.3276 - val_acc: 0.8656 - val_precision: 0.4600 - val_recall: 1.0000\n"
     ]
    },
    {
     "name": "stdout",
     "output_type": "stream",
     "text": [
      "Epoch 38/100\n",
      "14813/14813 [==============================] - 1s 57us/step - loss: 0.3222 - acc: 0.8725 - precision: 0.4599 - recall: 1.0000 - val_loss: 0.3299 - val_acc: 0.8647 - val_precision: 0.4600 - val_recall: 1.0000\n",
      "Epoch 39/100\n",
      "14813/14813 [==============================] - 1s 55us/step - loss: 0.3217 - acc: 0.8741 - precision: 0.4600 - recall: 1.0000 - val_loss: 0.3270 - val_acc: 0.8658 - val_precision: 0.4600 - val_recall: 1.0000\n",
      "Epoch 40/100\n",
      "14813/14813 [==============================] - 1s 56us/step - loss: 0.3199 - acc: 0.8713 - precision: 0.4600 - recall: 1.0000 - val_loss: 0.3275 - val_acc: 0.8656 - val_precision: 0.4600 - val_recall: 1.0000\n",
      "Epoch 41/100\n",
      "14813/14813 [==============================] - 1s 58us/step - loss: 0.3190 - acc: 0.8724 - precision: 0.4600 - recall: 1.0000 - val_loss: 0.3313 - val_acc: 0.8607 - val_precision: 0.4600 - val_recall: 1.0000\n",
      "Epoch 42/100\n",
      "14813/14813 [==============================] - 1s 55us/step - loss: 0.3173 - acc: 0.8751 - precision: 0.4600 - recall: 1.0000 - val_loss: 0.3226 - val_acc: 0.8680 - val_precision: 0.4600 - val_recall: 1.0000\n",
      "Epoch 43/100\n",
      "14813/14813 [==============================] - 1s 56us/step - loss: 0.3179 - acc: 0.8724 - precision: 0.4600 - recall: 1.0000 - val_loss: 0.3250 - val_acc: 0.8642 - val_precision: 0.4600 - val_recall: 1.0000\n",
      "Epoch 44/100\n",
      "14813/14813 [==============================] - 1s 55us/step - loss: 0.3163 - acc: 0.8729 - precision: 0.4600 - recall: 1.0000 - val_loss: 0.3277 - val_acc: 0.8666 - val_precision: 0.4600 - val_recall: 1.0000\n",
      "Epoch 45/100\n",
      "14813/14813 [==============================] - 1s 56us/step - loss: 0.3156 - acc: 0.8742 - precision: 0.4600 - recall: 1.0000 - val_loss: 0.3210 - val_acc: 0.8653 - val_precision: 0.4600 - val_recall: 1.0000\n",
      "Epoch 46/100\n",
      "14813/14813 [==============================] - 1s 55us/step - loss: 0.3147 - acc: 0.8738 - precision: 0.4600 - recall: 1.0000 - val_loss: 0.3238 - val_acc: 0.8656 - val_precision: 0.4600 - val_recall: 1.0000\n",
      "Epoch 47/100\n",
      "14813/14813 [==============================] - 1s 55us/step - loss: 0.3150 - acc: 0.8737 - precision: 0.4600 - recall: 1.0000 - val_loss: 0.3208 - val_acc: 0.8637 - val_precision: 0.4600 - val_recall: 1.0000\n",
      "Epoch 48/100\n",
      "14813/14813 [==============================] - 1s 55us/step - loss: 0.3147 - acc: 0.8736 - precision: 0.4600 - recall: 1.0000 - val_loss: 0.3254 - val_acc: 0.8650 - val_precision: 0.4600 - val_recall: 1.0000\n",
      "Epoch 49/100\n",
      "14813/14813 [==============================] - 1s 53us/step - loss: 0.3121 - acc: 0.8751 - precision: 0.4600 - recall: 1.0000 - val_loss: 0.3292 - val_acc: 0.8612 - val_precision: 0.4600 - val_recall: 1.0000\n",
      "Epoch 50/100\n",
      "14813/14813 [==============================] - 1s 55us/step - loss: 0.3119 - acc: 0.8748 - precision: 0.4600 - recall: 1.0000 - val_loss: 0.3244 - val_acc: 0.8669 - val_precision: 0.4600 - val_recall: 1.0000\n",
      "Epoch 51/100\n",
      "14813/14813 [==============================] - 1s 56us/step - loss: 0.3113 - acc: 0.8760 - precision: 0.4600 - recall: 1.0000 - val_loss: 0.3236 - val_acc: 0.8650 - val_precision: 0.4600 - val_recall: 1.0000\n",
      "Epoch 52/100\n",
      "14813/14813 [==============================] - 1s 54us/step - loss: 0.3119 - acc: 0.8759 - precision: 0.4600 - recall: 1.0000 - val_loss: 0.3219 - val_acc: 0.8680 - val_precision: 0.4600 - val_recall: 1.0000\n",
      "Epoch 53/100\n",
      "14813/14813 [==============================] - 1s 55us/step - loss: 0.3103 - acc: 0.8757 - precision: 0.4600 - recall: 1.0000 - val_loss: 0.3189 - val_acc: 0.8672 - val_precision: 0.4600 - val_recall: 1.0000\n",
      "Epoch 54/100\n",
      "14813/14813 [==============================] - 1s 54us/step - loss: 0.3120 - acc: 0.8748 - precision: 0.4600 - recall: 1.0000 - val_loss: 0.3210 - val_acc: 0.8645 - val_precision: 0.4600 - val_recall: 1.0000\n",
      "Epoch 55/100\n",
      "14813/14813 [==============================] - 1s 54us/step - loss: 0.3099 - acc: 0.8754 - precision: 0.4600 - recall: 1.0000 - val_loss: 0.3188 - val_acc: 0.8677 - val_precision: 0.4600 - val_recall: 1.0000\n",
      "Epoch 56/100\n",
      "14813/14813 [==============================] - 1s 53us/step - loss: 0.3101 - acc: 0.8754 - precision: 0.4600 - recall: 1.0000 - val_loss: 0.3234 - val_acc: 0.8650 - val_precision: 0.4600 - val_recall: 1.0000\n",
      "Epoch 57/100\n",
      "14813/14813 [==============================] - 1s 54us/step - loss: 0.3095 - acc: 0.8748 - precision: 0.4599 - recall: 1.0000 - val_loss: 0.3158 - val_acc: 0.8669 - val_precision: 0.4600 - val_recall: 1.0000\n",
      "Epoch 58/100\n",
      "14813/14813 [==============================] - 1s 53us/step - loss: 0.3085 - acc: 0.8761 - precision: 0.4600 - recall: 1.0000 - val_loss: 0.3222 - val_acc: 0.8653 - val_precision: 0.4600 - val_recall: 1.0000\n",
      "Epoch 59/100\n",
      "14813/14813 [==============================] - 1s 55us/step - loss: 0.3086 - acc: 0.8746 - precision: 0.4600 - recall: 1.0000 - val_loss: 0.3167 - val_acc: 0.8658 - val_precision: 0.4600 - val_recall: 1.0000\n",
      "Epoch 60/100\n",
      "14813/14813 [==============================] - 1s 53us/step - loss: 0.3088 - acc: 0.8742 - precision: 0.4600 - recall: 1.0000 - val_loss: 0.3131 - val_acc: 0.8647 - val_precision: 0.4600 - val_recall: 1.0000\n",
      "Epoch 61/100\n",
      "14813/14813 [==============================] - 1s 54us/step - loss: 0.3097 - acc: 0.8767 - precision: 0.4600 - recall: 1.0000 - val_loss: 0.3175 - val_acc: 0.8696 - val_precision: 0.4600 - val_recall: 1.0000\n",
      "Epoch 62/100\n",
      "14813/14813 [==============================] - 1s 56us/step - loss: 0.3079 - acc: 0.8748 - precision: 0.4600 - recall: 1.0000 - val_loss: 0.3152 - val_acc: 0.8685 - val_precision: 0.4600 - val_recall: 1.0000\n",
      "Epoch 63/100\n",
      "14813/14813 [==============================] - 1s 56us/step - loss: 0.3078 - acc: 0.8755 - precision: 0.4600 - recall: 1.0000 - val_loss: 0.3140 - val_acc: 0.8680 - val_precision: 0.4600 - val_recall: 1.0000\n",
      "Epoch 64/100\n",
      "14813/14813 [==============================] - 1s 55us/step - loss: 0.3097 - acc: 0.8755 - precision: 0.4600 - recall: 1.0000 - val_loss: 0.3194 - val_acc: 0.8634 - val_precision: 0.4600 - val_recall: 1.0000\n",
      "Epoch 65/100\n",
      "14813/14813 [==============================] - 1s 55us/step - loss: 0.3114 - acc: 0.8748 - precision: 0.4600 - recall: 1.0000 - val_loss: 0.3144 - val_acc: 0.8647 - val_precision: 0.4600 - val_recall: 1.0000\n",
      "Epoch 66/100\n",
      "14813/14813 [==============================] - 1s 53us/step - loss: 0.3102 - acc: 0.8756 - precision: 0.4600 - recall: 1.0000 - val_loss: 0.3179 - val_acc: 0.8631 - val_precision: 0.4600 - val_recall: 1.0000\n",
      "Epoch 67/100\n",
      "14813/14813 [==============================] - 1s 54us/step - loss: 0.3083 - acc: 0.8767 - precision: 0.4600 - recall: 1.0000 - val_loss: 0.3148 - val_acc: 0.8677 - val_precision: 0.4600 - val_recall: 1.0000\n",
      "Epoch 68/100\n",
      "14813/14813 [==============================] - 1s 54us/step - loss: 0.3085 - acc: 0.8771 - precision: 0.4600 - recall: 1.0000 - val_loss: 0.3165 - val_acc: 0.8693 - val_precision: 0.4600 - val_recall: 1.0000\n",
      "Epoch 69/100\n",
      "14813/14813 [==============================] - 1s 54us/step - loss: 0.3087 - acc: 0.8786 - precision: 0.4600 - recall: 1.0000 - val_loss: 0.3175 - val_acc: 0.8674 - val_precision: 0.4600 - val_recall: 1.0000\n",
      "Epoch 70/100\n",
      "14813/14813 [==============================] - 1s 53us/step - loss: 0.3080 - acc: 0.8773 - precision: 0.4600 - recall: 1.0000 - val_loss: 0.3215 - val_acc: 0.8650 - val_precision: 0.4600 - val_recall: 1.0000\n",
      "Epoch 71/100\n",
      "14813/14813 [==============================] - 1s 55us/step - loss: 0.3091 - acc: 0.8762 - precision: 0.4600 - recall: 1.0000 - val_loss: 0.3157 - val_acc: 0.8701 - val_precision: 0.4600 - val_recall: 1.0000\n",
      "Epoch 72/100\n",
      "14813/14813 [==============================] - 1s 54us/step - loss: 0.3082 - acc: 0.8765 - precision: 0.4600 - recall: 1.0000 - val_loss: 0.3168 - val_acc: 0.8669 - val_precision: 0.4600 - val_recall: 1.0000\n",
      "Epoch 73/100\n",
      "14813/14813 [==============================] - 1s 55us/step - loss: 0.3069 - acc: 0.8778 - precision: 0.4600 - recall: 1.0000 - val_loss: 0.3112 - val_acc: 0.8718 - val_precision: 0.4600 - val_recall: 1.0000\n",
      "Epoch 74/100\n",
      "14813/14813 [==============================] - 1s 54us/step - loss: 0.3075 - acc: 0.8779 - precision: 0.4600 - recall: 1.0000 - val_loss: 0.3161 - val_acc: 0.8685 - val_precision: 0.4600 - val_recall: 1.0000\n",
      "Epoch 75/100\n"
     ]
    },
    {
     "name": "stdout",
     "output_type": "stream",
     "text": [
      "14813/14813 [==============================] - 1s 58us/step - loss: 0.3076 - acc: 0.8756 - precision: 0.4600 - recall: 1.0000 - val_loss: 0.3150 - val_acc: 0.8669 - val_precision: 0.4600 - val_recall: 1.0000\n",
      "Epoch 76/100\n",
      "14813/14813 [==============================] - 1s 55us/step - loss: 0.3075 - acc: 0.8775 - precision: 0.4600 - recall: 1.0000 - val_loss: 0.3178 - val_acc: 0.8674 - val_precision: 0.4600 - val_recall: 1.0000\n",
      "Epoch 77/100\n",
      "14813/14813 [==============================] - 1s 56us/step - loss: 0.3065 - acc: 0.8776 - precision: 0.4600 - recall: 1.0000 - val_loss: 0.3148 - val_acc: 0.8674 - val_precision: 0.4600 - val_recall: 1.0000\n",
      "Epoch 78/100\n",
      "14813/14813 [==============================] - 1s 54us/step - loss: 0.3071 - acc: 0.8777 - precision: 0.4600 - recall: 1.0000 - val_loss: 0.3155 - val_acc: 0.8704 - val_precision: 0.4600 - val_recall: 1.0000\n",
      "Epoch 79/100\n",
      "14813/14813 [==============================] - 1s 56us/step - loss: 0.3055 - acc: 0.8786 - precision: 0.4600 - recall: 1.0000 - val_loss: 0.3147 - val_acc: 0.8723 - val_precision: 0.4600 - val_recall: 1.0000\n",
      "Epoch 80/100\n",
      "14813/14813 [==============================] - 1s 56us/step - loss: 0.3066 - acc: 0.8771 - precision: 0.4600 - recall: 1.0000 - val_loss: 0.3174 - val_acc: 0.8677 - val_precision: 0.4600 - val_recall: 1.0000\n",
      "Epoch 81/100\n",
      "14813/14813 [==============================] - 1s 56us/step - loss: 0.3062 - acc: 0.8775 - precision: 0.4600 - recall: 1.0000 - val_loss: 0.3194 - val_acc: 0.8658 - val_precision: 0.4600 - val_recall: 1.0000\n",
      "Epoch 82/100\n",
      "14813/14813 [==============================] - 1s 55us/step - loss: 0.3062 - acc: 0.8784 - precision: 0.4600 - recall: 1.0000 - val_loss: 0.3197 - val_acc: 0.8674 - val_precision: 0.4600 - val_recall: 1.0000\n",
      "Epoch 83/100\n",
      "14813/14813 [==============================] - 1s 57us/step - loss: 0.3060 - acc: 0.8776 - precision: 0.4600 - recall: 1.0000 - val_loss: 0.3148 - val_acc: 0.8691 - val_precision: 0.4600 - val_recall: 1.0000\n",
      "Epoch 84/100\n",
      "14813/14813 [==============================] - 1s 57us/step - loss: 0.3060 - acc: 0.8767 - precision: 0.4600 - recall: 1.0000 - val_loss: 0.3145 - val_acc: 0.8712 - val_precision: 0.4600 - val_recall: 1.0000\n",
      "Epoch 85/100\n",
      "14813/14813 [==============================] - 1s 55us/step - loss: 0.3053 - acc: 0.8781 - precision: 0.4600 - recall: 1.0000 - val_loss: 0.3174 - val_acc: 0.8726 - val_precision: 0.4600 - val_recall: 1.0000\n",
      "Epoch 86/100\n",
      "14813/14813 [==============================] - 1s 56us/step - loss: 0.3065 - acc: 0.8757 - precision: 0.4600 - recall: 1.0000 - val_loss: 0.3150 - val_acc: 0.8666 - val_precision: 0.4600 - val_recall: 1.0000\n",
      "Epoch 87/100\n",
      "14813/14813 [==============================] - 1s 56us/step - loss: 0.3033 - acc: 0.8798 - precision: 0.4600 - recall: 1.0000 - val_loss: 0.3201 - val_acc: 0.8680 - val_precision: 0.4600 - val_recall: 1.0000\n",
      "Epoch 88/100\n",
      "14813/14813 [==============================] - 1s 56us/step - loss: 0.3040 - acc: 0.8770 - precision: 0.4600 - recall: 1.0000 - val_loss: 0.3175 - val_acc: 0.8731 - val_precision: 0.4600 - val_recall: 1.0000\n",
      "Epoch 89/100\n",
      "14813/14813 [==============================] - 1s 55us/step - loss: 0.3041 - acc: 0.8762 - precision: 0.4600 - recall: 1.0000 - val_loss: 0.3312 - val_acc: 0.8620 - val_precision: 0.4600 - val_recall: 1.0000\n",
      "Epoch 90/100\n",
      "14813/14813 [==============================] - 1s 55us/step - loss: 0.3058 - acc: 0.8768 - precision: 0.4600 - recall: 1.0000 - val_loss: 0.3229 - val_acc: 0.8669 - val_precision: 0.4600 - val_recall: 1.0000\n",
      "Epoch 91/100\n",
      "14813/14813 [==============================] - 1s 54us/step - loss: 0.3040 - acc: 0.8775 - precision: 0.4600 - recall: 1.0000 - val_loss: 0.3120 - val_acc: 0.8755 - val_precision: 0.4600 - val_recall: 1.0000\n",
      "Epoch 92/100\n",
      "14813/14813 [==============================] - 1s 55us/step - loss: 0.3037 - acc: 0.8780 - precision: 0.4600 - recall: 1.0000 - val_loss: 0.3213 - val_acc: 0.8677 - val_precision: 0.4600 - val_recall: 1.0000\n",
      "Epoch 93/100\n",
      "14813/14813 [==============================] - 1s 54us/step - loss: 0.3038 - acc: 0.8777 - precision: 0.4600 - recall: 1.0000 - val_loss: 0.3225 - val_acc: 0.8691 - val_precision: 0.4600 - val_recall: 1.0000\n",
      "Epoch 94/100\n",
      "14813/14813 [==============================] - 1s 54us/step - loss: 0.3038 - acc: 0.8779 - precision: 0.4600 - recall: 1.0000 - val_loss: 0.3202 - val_acc: 0.8661 - val_precision: 0.4600 - val_recall: 1.0000\n",
      "Epoch 95/100\n",
      "14813/14813 [==============================] - 1s 55us/step - loss: 0.3029 - acc: 0.8783 - precision: 0.4600 - recall: 1.0000 - val_loss: 0.3214 - val_acc: 0.8688 - val_precision: 0.4600 - val_recall: 1.0000\n",
      "Epoch 96/100\n",
      "14813/14813 [==============================] - 1s 55us/step - loss: 0.3042 - acc: 0.8787 - precision: 0.4600 - recall: 1.0000 - val_loss: 0.3157 - val_acc: 0.8731 - val_precision: 0.4600 - val_recall: 1.0000\n",
      "Epoch 97/100\n",
      "14813/14813 [==============================] - 1s 54us/step - loss: 0.3033 - acc: 0.8802 - precision: 0.4600 - recall: 1.0000 - val_loss: 0.3263 - val_acc: 0.8674 - val_precision: 0.4600 - val_recall: 1.0000\n",
      "Epoch 98/100\n",
      "14813/14813 [==============================] - 1s 54us/step - loss: 0.3029 - acc: 0.8784 - precision: 0.4600 - recall: 1.0000 - val_loss: 0.3194 - val_acc: 0.8712 - val_precision: 0.4600 - val_recall: 1.0000\n",
      "Epoch 99/100\n",
      "14813/14813 [==============================] - 1s 56us/step - loss: 0.3023 - acc: 0.8784 - precision: 0.4600 - recall: 1.0000 - val_loss: 0.3153 - val_acc: 0.8701 - val_precision: 0.4600 - val_recall: 1.0000\n",
      "Epoch 100/100\n",
      "14813/14813 [==============================] - 1s 55us/step - loss: 0.3023 - acc: 0.8794 - precision: 0.4600 - recall: 1.0000 - val_loss: 0.3150 - val_acc: 0.8677 - val_precision: 0.4600 - val_recall: 1.0000\n"
     ]
    }
   ],
   "source": [
    "# Train model\n",
    "history=model.fit(X, y, epochs=100,validation_split=.2,verbose=1)"
   ]
  },
  {
   "cell_type": "code",
   "execution_count": 29,
   "metadata": {},
   "outputs": [],
   "source": [
    "json_string = model.to_json()\n",
    "with open(\"model.json\", \"w\") as json_file:\n",
    "    json_file.write(json_string)\n",
    "model.save_weights('my_model_weights.h5')    "
   ]
  },
  {
   "cell_type": "code",
   "execution_count": 15,
   "metadata": {},
   "outputs": [],
   "source": [
    "labels=[\"True\",\"False\"]\n",
    "y=auto.input_nub"
   ]
  },
  {
   "cell_type": "code",
   "execution_count": 20,
   "metadata": {},
   "outputs": [
    {
     "data": {
      "text/plain": [
       "name: \"concatenate_inputs/concat:0\"\n",
       "dtype: DT_FLOAT\n",
       "tensor_shape {\n",
       "  dim {\n",
       "    size: -1\n",
       "  }\n",
       "  dim {\n",
       "    size: -1\n",
       "  }\n",
       "}"
      ]
     },
     "execution_count": 20,
     "metadata": {},
     "output_type": "execute_result"
    }
   ],
   "source": [
    "classification_inputs"
   ]
  },
  {
   "cell_type": "code",
   "execution_count": 22,
   "metadata": {},
   "outputs": [
    {
     "ename": "ValueError",
     "evalue": "Classification examples must be a string Tensor.",
     "output_type": "error",
     "traceback": [
      "\u001b[0;31m---------------------------------------------------------------------------\u001b[0m",
      "\u001b[0;31mValueError\u001b[0m                                Traceback (most recent call last)",
      "\u001b[0;32m<ipython-input-22-104a87be36cc>\u001b[0m in \u001b[0;36m<module>\u001b[0;34m()\u001b[0m\n\u001b[1;32m     10\u001b[0m     \u001b[0mexamples\u001b[0m\u001b[0;34m=\u001b[0m\u001b[0mclassification_inputs\u001b[0m\u001b[0;34m,\u001b[0m\u001b[0;34m\u001b[0m\u001b[0m\n\u001b[1;32m     11\u001b[0m     \u001b[0mclasses\u001b[0m\u001b[0;34m=\u001b[0m\u001b[0mprediction_classes\u001b[0m\u001b[0;34m,\u001b[0m\u001b[0;34m\u001b[0m\u001b[0m\n\u001b[0;32m---> 12\u001b[0;31m     \u001b[0mscores\u001b[0m\u001b[0;34m=\u001b[0m\u001b[0mclassification_outputs_scores\u001b[0m\u001b[0;34m\u001b[0m\u001b[0m\n\u001b[0m\u001b[1;32m     13\u001b[0m )\n\u001b[1;32m     14\u001b[0m \u001b[0mprediction_signature\u001b[0m \u001b[0;34m=\u001b[0m \u001b[0mtf\u001b[0m\u001b[0;34m.\u001b[0m\u001b[0msaved_model\u001b[0m\u001b[0;34m.\u001b[0m\u001b[0msignature_def_utils\u001b[0m\u001b[0;34m.\u001b[0m\u001b[0mpredict_signature_def\u001b[0m\u001b[0;34m(\u001b[0m\u001b[0;34m{\u001b[0m\u001b[0;34m\"inputs\"\u001b[0m\u001b[0;34m:\u001b[0m \u001b[0mx\u001b[0m\u001b[0;34m}\u001b[0m\u001b[0;34m,\u001b[0m \u001b[0;34m{\u001b[0m\u001b[0;34m\"prediction\"\u001b[0m\u001b[0;34m:\u001b[0m\u001b[0my\u001b[0m\u001b[0;34m}\u001b[0m\u001b[0;34m)\u001b[0m\u001b[0;34m\u001b[0m\u001b[0m\n",
      "\u001b[0;32m~/.local/lib/python3.5/site-packages/tensorflow/python/saved_model/signature_def_utils_impl.py\u001b[0m in \u001b[0;36mclassification_signature_def\u001b[0;34m(examples, classes, scores)\u001b[0m\n\u001b[1;32m    108\u001b[0m     \u001b[0;32mraise\u001b[0m \u001b[0mValueError\u001b[0m\u001b[0;34m(\u001b[0m\u001b[0;34m'Classification examples cannot be None.'\u001b[0m\u001b[0;34m)\u001b[0m\u001b[0;34m\u001b[0m\u001b[0m\n\u001b[1;32m    109\u001b[0m   \u001b[0;32mif\u001b[0m \u001b[0;32mnot\u001b[0m \u001b[0misinstance\u001b[0m\u001b[0;34m(\u001b[0m\u001b[0mexamples\u001b[0m\u001b[0;34m,\u001b[0m \u001b[0mops\u001b[0m\u001b[0;34m.\u001b[0m\u001b[0mTensor\u001b[0m\u001b[0;34m)\u001b[0m\u001b[0;34m:\u001b[0m\u001b[0;34m\u001b[0m\u001b[0m\n\u001b[0;32m--> 110\u001b[0;31m     \u001b[0;32mraise\u001b[0m \u001b[0mValueError\u001b[0m\u001b[0;34m(\u001b[0m\u001b[0;34m'Classification examples must be a string Tensor.'\u001b[0m\u001b[0;34m)\u001b[0m\u001b[0;34m\u001b[0m\u001b[0m\n\u001b[0m\u001b[1;32m    111\u001b[0m   \u001b[0;32mif\u001b[0m \u001b[0mclasses\u001b[0m \u001b[0;32mis\u001b[0m \u001b[0;32mNone\u001b[0m \u001b[0;32mand\u001b[0m \u001b[0mscores\u001b[0m \u001b[0;32mis\u001b[0m \u001b[0;32mNone\u001b[0m\u001b[0;34m:\u001b[0m\u001b[0;34m\u001b[0m\u001b[0m\n\u001b[1;32m    112\u001b[0m     \u001b[0;32mraise\u001b[0m \u001b[0mValueError\u001b[0m\u001b[0;34m(\u001b[0m\u001b[0;34m'Classification classes and scores cannot both be None.'\u001b[0m\u001b[0;34m)\u001b[0m\u001b[0;34m\u001b[0m\u001b[0m\n",
      "\u001b[0;31mValueError\u001b[0m: Classification examples must be a string Tensor."
     ]
    }
   ],
   "source": [
    "values, indices = tf.nn.top_k(y, len(labels))\n",
    "table =tf.contrib.lookup.index_to_string_table_from_tensor(tf.constant(labels))\n",
    "prediction_classes = table.lookup(tf.to_int64(indices))\n",
    "\n",
    "classification_inputs = tf.saved_model.utils.build_tensor_info(auto.input_nub)\n",
    "classification_outputs_classes = tf.saved_model.utils.build_tensor_info(prediction_classes)\n",
    "classification_outputs_scores = tf.saved_model.utils.build_tensor_info(values)\n",
    "\n",
    "classification_signature = tf.saved_model.signature_def_utils.classification_signature_def(\n",
    "    examples=classification_inputs,\n",
    "    classes=prediction_classes,\n",
    "    scores=classification_outputs_scores\n",
    ")\n",
    "prediction_signature = tf.saved_model.signature_def_utils.predict_signature_def({\"inputs\": x}, {\"prediction\":y})"
   ]
  },
  {
   "cell_type": "code",
   "execution_count": null,
   "metadata": {},
   "outputs": [],
   "source": [
    "valid_prediction_signature = tf.saved_model.signature_def_utils.is_valid_signature(prediction_signature)\n",
    "valid_classification_signature = tf.saved_model.signature_def_utils.is_valid_signature(classification_signature)\n",
    "\n",
    "if(valid_prediction_signature == False):\n",
    "    raise ValueError(\"Error: Prediction signature not valid!\")\n",
    "\n",
    "if(valid_classification_signature == False):\n",
    "    raise ValueError(\"Error: Classification signature not valid!\")"
   ]
  },
  {
   "cell_type": "code",
   "execution_count": null,
   "metadata": {},
   "outputs": [],
   "source": [
    "builder = saved_model_builder.SavedModelBuilder('./'+model_version)\n",
    "legacy_init_op = tf.group(tf.tables_initializer(), name='legacy_init_op')\n",
    "\n",
    "# Add the meta_graph and the variables to the builder\n",
    "builder.add_meta_graph_and_variables(\n",
    "      sess, [tag_constants.SERVING],\n",
    "      signature_def_map={\n",
    "           'predict-smash':\n",
    "               prediction_signature,\n",
    "           signature_constants.DEFAULT_SERVING_SIGNATURE_DEF_KEY:\n",
    "              classification_signature,\n",
    "      },\n",
    "      legacy_init_op=legacy_init_op)\n",
    "# save the graph\n",
    "builder.save()"
   ]
  },
  {
   "cell_type": "code",
   "execution_count": 29,
   "metadata": {},
   "outputs": [
    {
     "ename": "ValueError",
     "evalue": "Classification examples must be a string Tensor.",
     "output_type": "error",
     "traceback": [
      "\u001b[0;31m---------------------------------------------------------------------------\u001b[0m",
      "\u001b[0;31mValueError\u001b[0m                                Traceback (most recent call last)",
      "\u001b[0;32m<ipython-input-29-2836943e4b3a>\u001b[0m in \u001b[0;36m<module>\u001b[0;34m()\u001b[0m\n\u001b[0;32m----> 1\u001b[0;31m \u001b[0mclassfication_signature\u001b[0m \u001b[0;34m=\u001b[0m \u001b[0mtf\u001b[0m\u001b[0;34m.\u001b[0m\u001b[0msaved_model\u001b[0m\u001b[0;34m.\u001b[0m\u001b[0msignature_def_utils\u001b[0m\u001b[0;34m.\u001b[0m\u001b[0mclassification_signature_def\u001b[0m\u001b[0;34m(\u001b[0m\u001b[0mexamples\u001b[0m\u001b[0;34m=\u001b[0m\u001b[0mmodel\u001b[0m\u001b[0;34m.\u001b[0m\u001b[0minput\u001b[0m\u001b[0;34m,\u001b[0m\u001b[0mclasses\u001b[0m\u001b[0;34m=\u001b[0m\u001b[0mmodel\u001b[0m\u001b[0;34m.\u001b[0m\u001b[0moutput\u001b[0m\u001b[0;34m,\u001b[0m\u001b[0mscores\u001b[0m\u001b[0;34m=\u001b[0m\u001b[0mmodel\u001b[0m\u001b[0;34m.\u001b[0m\u001b[0moutput\u001b[0m\u001b[0;34m)\u001b[0m\u001b[0;34m\u001b[0m\u001b[0m\n\u001b[0m",
      "\u001b[0;32m~/.local/lib/python3.5/site-packages/tensorflow/python/saved_model/signature_def_utils_impl.py\u001b[0m in \u001b[0;36mclassification_signature_def\u001b[0;34m(examples, classes, scores)\u001b[0m\n\u001b[1;32m    108\u001b[0m     \u001b[0;32mraise\u001b[0m \u001b[0mValueError\u001b[0m\u001b[0;34m(\u001b[0m\u001b[0;34m'Classification examples cannot be None.'\u001b[0m\u001b[0;34m)\u001b[0m\u001b[0;34m\u001b[0m\u001b[0m\n\u001b[1;32m    109\u001b[0m   \u001b[0;32mif\u001b[0m \u001b[0;32mnot\u001b[0m \u001b[0misinstance\u001b[0m\u001b[0;34m(\u001b[0m\u001b[0mexamples\u001b[0m\u001b[0;34m,\u001b[0m \u001b[0mops\u001b[0m\u001b[0;34m.\u001b[0m\u001b[0mTensor\u001b[0m\u001b[0;34m)\u001b[0m\u001b[0;34m:\u001b[0m\u001b[0;34m\u001b[0m\u001b[0m\n\u001b[0;32m--> 110\u001b[0;31m     \u001b[0;32mraise\u001b[0m \u001b[0mValueError\u001b[0m\u001b[0;34m(\u001b[0m\u001b[0;34m'Classification examples must be a string Tensor.'\u001b[0m\u001b[0;34m)\u001b[0m\u001b[0;34m\u001b[0m\u001b[0m\n\u001b[0m\u001b[1;32m    111\u001b[0m   \u001b[0;32mif\u001b[0m \u001b[0mclasses\u001b[0m \u001b[0;32mis\u001b[0m \u001b[0;32mNone\u001b[0m \u001b[0;32mand\u001b[0m \u001b[0mscores\u001b[0m \u001b[0;32mis\u001b[0m \u001b[0;32mNone\u001b[0m\u001b[0;34m:\u001b[0m\u001b[0;34m\u001b[0m\u001b[0m\n\u001b[1;32m    112\u001b[0m     \u001b[0;32mraise\u001b[0m \u001b[0mValueError\u001b[0m\u001b[0;34m(\u001b[0m\u001b[0;34m'Classification classes and scores cannot both be None.'\u001b[0m\u001b[0;34m)\u001b[0m\u001b[0;34m\u001b[0m\u001b[0m\n",
      "\u001b[0;31mValueError\u001b[0m: Classification examples must be a string Tensor."
     ]
    }
   ],
   "source": [
    "classfication_signature = tf.saved_model.signature_def_utils.classification_signature_def(examples=model.input,classes=model.output,scores=model.output)"
   ]
  },
  {
   "cell_type": "code",
   "execution_count": 15,
   "metadata": {},
   "outputs": [
    {
     "name": "stdout",
     "output_type": "stream",
     "text": [
      "dict_keys(['acc', 'val_loss', 'val_acc', 'precision', 'recall', 'loss', 'val_precision', 'val_recall'])\n"
     ]
    }
   ],
   "source": [
    "print(history.history.keys())"
   ]
  },
  {
   "cell_type": "code",
   "execution_count": 16,
   "metadata": {},
   "outputs": [
    {
     "data": {
      "image/png": "[encoded data removed]",
      "text/plain": [
       "<Figure size 432x288 with 1 Axes>"
      ]
     },
     "metadata": {
      "needs_background": "light"
     },
     "output_type": "display_data"
    }
   ],
   "source": [
    "plt.plot(history.history['acc'])\n",
    "plt.plot(history.history['val_acc'])\n",
    "plt.title('model accuracy')\n",
    "plt.ylabel('accuracy')\n",
    "plt.xlabel('epoch')\n",
    "plt.legend(['train', 'test'], loc='upper left')\n",
    "plt.show()"
   ]
  },
  {
   "cell_type": "code",
   "execution_count": null,
   "metadata": {},
   "outputs": [],
   "source": [
    "# TODO: account for end of game\n",
    "# Discount Factor Wait on this\n",
    "for idx in reversed(df.index):\n",
    "    print(idx, df.loc[idx, \"AI_Percent_Change\"])"
   ]
  }
 ],
 "metadata": {
  "kernelspec": {
   "display_name": "Python 3",
   "language": "python",
   "name": "python3"
  },
  "language_info": {
   "codemirror_mode": {
    "name": "ipython",
    "version": 3
   },
   "file_extension": ".py",
   "mimetype": "text/x-python",
   "name": "python",
   "nbconvert_exporter": "python",
   "pygments_lexer": "ipython3",
   "version": "3.5.2"
  }
 },
 "nbformat": 4,
 "nbformat_minor": 2
}
